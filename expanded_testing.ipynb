{
 "cells": [
  {
   "cell_type": "code",
   "execution_count": 1,
   "metadata": {},
   "outputs": [],
   "source": [
    "from word_graph_lib import WordGraph, get_words"
   ]
  },
  {
   "cell_type": "code",
   "execution_count": 2,
   "metadata": {},
   "outputs": [],
   "source": [
    "MAX_WORD_LENGTH = 5"
   ]
  },
  {
   "cell_type": "code",
   "execution_count": 3,
   "metadata": {},
   "outputs": [],
   "source": [
    "words = get_words('12dicts_words.txt')"
   ]
  },
  {
   "cell_type": "code",
   "execution_count": 4,
   "metadata": {},
   "outputs": [
    {
     "name": "stdout",
     "output_type": "stream",
     "text": [
      "Processing words of length 1\n",
      "\tNumber of words of length 1: 4\n",
      "\tRoot batch size: 125000 (500000 word pairs per batch)\n",
      "Processing words of length 2\n",
      "\tNumber of words of length 2: 61\n",
      "\tRoot batch size: 8196 (499956 word pairs per batch)\n",
      "Processing words of length 3\n",
      "\tNumber of words of length 3: 649\n",
      "\tRoot batch size: 770 (499730 word pairs per batch)\n",
      "Processing words of length 4\n",
      "\tNumber of words of length 4: 2446\n",
      "\tRoot batch size: 204 (498984 word pairs per batch)\n",
      "Processing words of length 5\n",
      "\tNumber of words of length 5: 4680\n",
      "\tRoot batch size: 106 (496080 word pairs per batch)\n",
      "Processing insertions from words of length 1 to words of length 2\n",
      "\tFound 47 candidate insertion pairs\n",
      "\tFound 47 verified insertion pairs\n",
      "Processing insertions from words of length 2 to words of length 3\n",
      "\tFound 923 candidate insertion pairs\n",
      "\tFound 517 verified insertion pairs\n",
      "Processing insertions from words of length 3 to words of length 4\n",
      "\tFound 6680 candidate insertion pairs\n",
      "\tFound 2608 verified insertion pairs\n",
      "Processing insertions from words of length 4 to words of length 5\n",
      "\tFound 18677 candidate insertion pairs\n",
      "\tFound 5123 verified insertion pairs\n"
     ]
    }
   ],
   "source": [
    "if MAX_WORD_LENGTH:\n",
    "    processed_words = [word for word in words if len(word) <= MAX_WORD_LENGTH]\n",
    "else:\n",
    "    processed_words = words\n",
    "word_graph = WordGraph(processed_words)"
   ]
  },
  {
   "cell_type": "code",
   "execution_count": 5,
   "metadata": {},
   "outputs": [
    {
     "name": "stdout",
     "output_type": "stream",
     "text": [
      "Number of disconnected components: 854\n",
      "Number of disconnected components with more than 2 words: 72\n",
      "Number of disconnected components with more than 5 words: 14\n"
     ]
    }
   ],
   "source": [
    "disconnected_components = word_graph.find_disconnected_components()\n",
    "print(f\"Number of disconnected components: {len(disconnected_components)}\")\n",
    "print(f\"Number of disconnected components with more than 2 words: {len([comp for comp in disconnected_components if len(comp) > 2])}\")\n",
    "print(f\"Number of disconnected components with more than 5 words: {len([comp for comp in disconnected_components if len(comp) > 5])}\")"
   ]
  },
  {
   "cell_type": "code",
   "execution_count": 6,
   "metadata": {},
   "outputs": [
    {
     "name": "stdout",
     "output_type": "stream",
     "text": [
      "Diameter of the graph: 29\n",
      "Path: antis, antes, anted, acted, ached, aches, ashes, asses, arses, arsed, armed, aimed, aired, sired, shred, shied, shier, sheer, cheer, cheep, cheap, cheat, cleat, bleat, bloat, float, flout, clout, cloud, aloud\n"
     ]
    }
   ],
   "source": [
    "path, diameter = word_graph.find_diameter()\n",
    "print(f\"Diameter of the graph: {diameter}\")\n",
    "print(f\"Path: {', '.join(path)}\")"
   ]
  },
  {
   "cell_type": "code",
   "execution_count": 7,
   "metadata": {},
   "outputs": [
    {
     "name": "stdout",
     "output_type": "stream",
     "text": [
      "Shortest path from son to ran\n",
      "Path length: 3\n",
      "Path: son, on, an, ran\n"
     ]
    }
   ],
   "source": [
    "# Now from cat to orange\n",
    "# Find the nodes\n",
    "start_node = 'son'\n",
    "end_node = 'ran'\n",
    "\n",
    "print(f\"Shortest path from {start_node} to {end_node}\")\n",
    "path, path_length, _ = word_graph.bfs(start_node, end_node)\n",
    "if path is None:\n",
    "    print(\"No path found\")\n",
    "else:\n",
    "    print(f\"Path length: {path_length}\")\n",
    "    print(f\"Path: {', '.join(path)}\")"
   ]
  },
  {
   "cell_type": "code",
   "execution_count": 8,
   "metadata": {},
   "outputs": [],
   "source": [
    "# Export the DOT file\n",
    "dot_string = word_graph.to_dot()\n",
    "with open('word_graph.dot', 'w') as f:\n",
    "    f.write(dot_string)"
   ]
  },
  {
   "cell_type": "code",
   "execution_count": null,
   "metadata": {},
   "outputs": [],
   "source": []
  }
 ],
 "metadata": {
  "kernelspec": {
   "display_name": "venv",
   "language": "python",
   "name": "python3"
  },
  "language_info": {
   "codemirror_mode": {
    "name": "ipython",
    "version": 3
   },
   "file_extension": ".py",
   "mimetype": "text/x-python",
   "name": "python",
   "nbconvert_exporter": "python",
   "pygments_lexer": "ipython3",
   "version": "3.10.10"
  }
 },
 "nbformat": 4,
 "nbformat_minor": 2
}
